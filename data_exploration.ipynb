{
 "cells": [
  {
   "cell_type": "code",
   "execution_count": 19,
   "metadata": {
    "collapsed": true
   },
   "outputs": [],
   "source": [
    "import pandas as pd\n",
    "import matplotlib.pyplot as plt"
   ]
  },
  {
   "cell_type": "markdown",
   "metadata": {
    "collapsed": false
   },
   "source": [
    "There is a relation between the price and the characteristics of the house."
   ]
  },
  {
   "cell_type": "markdown",
   "metadata": {
    "collapsed": false,
    "pycharm": {
     "name": "#%% md\n"
    }
   },
   "source": [
    "Loading the data"
   ]
  },
  {
   "cell_type": "code",
   "execution_count": 25,
   "metadata": {
    "collapsed": false,
    "pycharm": {
     "name": "#%%\n"
    }
   },
   "outputs": [
    {
     "data": {
      "text/html": [
       "<div>\n",
       "<style scoped>\n",
       "    .dataframe tbody tr th:only-of-type {\n",
       "        vertical-align: middle;\n",
       "    }\n",
       "\n",
       "    .dataframe tbody tr th {\n",
       "        vertical-align: top;\n",
       "    }\n",
       "\n",
       "    .dataframe thead th {\n",
       "        text-align: right;\n",
       "    }\n",
       "</style>\n",
       "<table border=\"1\" class=\"dataframe\">\n",
       "  <thead>\n",
       "    <tr style=\"text-align: right;\">\n",
       "      <th></th>\n",
       "      <th>Unnamed: 0</th>\n",
       "      <th>price</th>\n",
       "      <th>Habitaciones</th>\n",
       "      <th>Baños</th>\n",
       "      <th>Área construída</th>\n",
       "      <th>Área privada</th>\n",
       "      <th>Estrato</th>\n",
       "      <th>Estado</th>\n",
       "      <th>Antigüedad</th>\n",
       "      <th>Piso N°</th>\n",
       "      <th>Administración</th>\n",
       "      <th>Precio m²</th>\n",
       "      <th>Tipo de apartamento</th>\n",
       "      <th>Parqueaderos</th>\n",
       "    </tr>\n",
       "  </thead>\n",
       "  <tbody>\n",
       "    <tr>\n",
       "      <th>0</th>\n",
       "      <td>0</td>\n",
       "      <td>$ 130.000.000</td>\n",
       "      <td>3.0</td>\n",
       "      <td>2.0</td>\n",
       "      <td>51 m²</td>\n",
       "      <td>0 m²</td>\n",
       "      <td>3.0</td>\n",
       "      <td>Bueno</td>\n",
       "      <td>1 a 8 años</td>\n",
       "      <td>2.0</td>\n",
       "      <td>$ 79.000 COP</td>\n",
       "      <td>$ 2.549.019,61*m²</td>\n",
       "      <td>NaN</td>\n",
       "      <td>NaN</td>\n",
       "    </tr>\n",
       "    <tr>\n",
       "      <th>1</th>\n",
       "      <td>1</td>\n",
       "      <td>$ 112.000.000</td>\n",
       "      <td>2.0</td>\n",
       "      <td>1.0</td>\n",
       "      <td>44 m²</td>\n",
       "      <td>44 m²</td>\n",
       "      <td>2.0</td>\n",
       "      <td>Bueno</td>\n",
       "      <td>9 a 15 años</td>\n",
       "      <td>1.0</td>\n",
       "      <td>No definida</td>\n",
       "      <td>$ 2.545.454,55*m²</td>\n",
       "      <td>NaN</td>\n",
       "      <td>NaN</td>\n",
       "    </tr>\n",
       "    <tr>\n",
       "      <th>2</th>\n",
       "      <td>2</td>\n",
       "      <td>$ 150.000.000</td>\n",
       "      <td>3.0</td>\n",
       "      <td>1.0</td>\n",
       "      <td>70 m²</td>\n",
       "      <td>64 m²</td>\n",
       "      <td>3.0</td>\n",
       "      <td>Remodelado</td>\n",
       "      <td>1 a 8 años</td>\n",
       "      <td>6.0</td>\n",
       "      <td>$ 50 COP</td>\n",
       "      <td>$ 2.142.857,14*m²</td>\n",
       "      <td>NaN</td>\n",
       "      <td>NaN</td>\n",
       "    </tr>\n",
       "    <tr>\n",
       "      <th>3</th>\n",
       "      <td>3</td>\n",
       "      <td>$ 152.152.000</td>\n",
       "      <td>NaN</td>\n",
       "      <td>NaN</td>\n",
       "      <td>NaN</td>\n",
       "      <td>NaN</td>\n",
       "      <td>NaN</td>\n",
       "      <td>NaN</td>\n",
       "      <td>NaN</td>\n",
       "      <td>NaN</td>\n",
       "      <td>NaN</td>\n",
       "      <td>NaN</td>\n",
       "      <td>NaN</td>\n",
       "      <td>NaN</td>\n",
       "    </tr>\n",
       "    <tr>\n",
       "      <th>4</th>\n",
       "      <td>4</td>\n",
       "      <td>$ 100.000.000</td>\n",
       "      <td>3.0</td>\n",
       "      <td>1.0</td>\n",
       "      <td>56 m²</td>\n",
       "      <td>56 m²</td>\n",
       "      <td>3.0</td>\n",
       "      <td>Remodelado</td>\n",
       "      <td>9 a 15 años</td>\n",
       "      <td>6.0</td>\n",
       "      <td>No definida</td>\n",
       "      <td>$ 1.785.714,29*m²</td>\n",
       "      <td>Loft</td>\n",
       "      <td>NaN</td>\n",
       "    </tr>\n",
       "    <tr>\n",
       "      <th>...</th>\n",
       "      <td>...</td>\n",
       "      <td>...</td>\n",
       "      <td>...</td>\n",
       "      <td>...</td>\n",
       "      <td>...</td>\n",
       "      <td>...</td>\n",
       "      <td>...</td>\n",
       "      <td>...</td>\n",
       "      <td>...</td>\n",
       "      <td>...</td>\n",
       "      <td>...</td>\n",
       "      <td>...</td>\n",
       "      <td>...</td>\n",
       "      <td>...</td>\n",
       "    </tr>\n",
       "    <tr>\n",
       "      <th>315</th>\n",
       "      <td>315</td>\n",
       "      <td>$ 139.000.000</td>\n",
       "      <td>NaN</td>\n",
       "      <td>NaN</td>\n",
       "      <td>NaN</td>\n",
       "      <td>NaN</td>\n",
       "      <td>NaN</td>\n",
       "      <td>NaN</td>\n",
       "      <td>NaN</td>\n",
       "      <td>NaN</td>\n",
       "      <td>NaN</td>\n",
       "      <td>NaN</td>\n",
       "      <td>NaN</td>\n",
       "      <td>NaN</td>\n",
       "    </tr>\n",
       "    <tr>\n",
       "      <th>316</th>\n",
       "      <td>316</td>\n",
       "      <td>$ 120.000.000</td>\n",
       "      <td>2.0</td>\n",
       "      <td>1.0</td>\n",
       "      <td>47 m²</td>\n",
       "      <td>42 m²</td>\n",
       "      <td>3.0</td>\n",
       "      <td>Bueno</td>\n",
       "      <td>16 a 30 años</td>\n",
       "      <td>3.0</td>\n",
       "      <td>$ 50.000 COP</td>\n",
       "      <td>$ 2.553.191,49*m²</td>\n",
       "      <td>NaN</td>\n",
       "      <td>NaN</td>\n",
       "    </tr>\n",
       "    <tr>\n",
       "      <th>317</th>\n",
       "      <td>317</td>\n",
       "      <td>$ 137.000.000</td>\n",
       "      <td>3.0</td>\n",
       "      <td>2.0</td>\n",
       "      <td>61 m²</td>\n",
       "      <td>61 m²</td>\n",
       "      <td>3.0</td>\n",
       "      <td>Bueno</td>\n",
       "      <td>1 a 8 años</td>\n",
       "      <td>1.0</td>\n",
       "      <td>$ 80.000 COP</td>\n",
       "      <td>$ 2.245.901,64*m²</td>\n",
       "      <td>NaN</td>\n",
       "      <td>NaN</td>\n",
       "    </tr>\n",
       "    <tr>\n",
       "      <th>318</th>\n",
       "      <td>318</td>\n",
       "      <td>$ 149.000.000</td>\n",
       "      <td>3.0</td>\n",
       "      <td>2.0</td>\n",
       "      <td>69 m²</td>\n",
       "      <td>70 m²</td>\n",
       "      <td>3.0</td>\n",
       "      <td>Excelente</td>\n",
       "      <td>1 a 8 años</td>\n",
       "      <td>2.0</td>\n",
       "      <td>$ 72.000 COP</td>\n",
       "      <td>$ 2.159.420,29*m²</td>\n",
       "      <td>NaN</td>\n",
       "      <td>NaN</td>\n",
       "    </tr>\n",
       "    <tr>\n",
       "      <th>319</th>\n",
       "      <td>319</td>\n",
       "      <td>$ 100.000.000</td>\n",
       "      <td>3.0</td>\n",
       "      <td>1.0</td>\n",
       "      <td>48 m²</td>\n",
       "      <td>0 m²</td>\n",
       "      <td>3.0</td>\n",
       "      <td>Excelente</td>\n",
       "      <td>1 a 8 años</td>\n",
       "      <td>2.0</td>\n",
       "      <td>No definida</td>\n",
       "      <td>$ 2.083.333,33*m²</td>\n",
       "      <td>NaN</td>\n",
       "      <td>NaN</td>\n",
       "    </tr>\n",
       "  </tbody>\n",
       "</table>\n",
       "<p>320 rows × 14 columns</p>\n",
       "</div>"
      ],
      "text/plain": [
       "     Unnamed: 0          price  Habitaciones  Baños Área construída  \\\n",
       "0             0  $ 130.000.000           3.0    2.0           51 m²   \n",
       "1             1  $ 112.000.000           2.0    1.0           44 m²   \n",
       "2             2  $ 150.000.000           3.0    1.0           70 m²   \n",
       "3             3  $ 152.152.000           NaN    NaN             NaN   \n",
       "4             4  $ 100.000.000           3.0    1.0           56 m²   \n",
       "..          ...            ...           ...    ...             ...   \n",
       "315         315  $ 139.000.000           NaN    NaN             NaN   \n",
       "316         316  $ 120.000.000           2.0    1.0           47 m²   \n",
       "317         317  $ 137.000.000           3.0    2.0           61 m²   \n",
       "318         318  $ 149.000.000           3.0    2.0           69 m²   \n",
       "319         319  $ 100.000.000           3.0    1.0           48 m²   \n",
       "\n",
       "    Área privada  Estrato      Estado    Antigüedad  Piso N° Administración  \\\n",
       "0           0 m²      3.0       Bueno    1 a 8 años      2.0   $ 79.000 COP   \n",
       "1          44 m²      2.0       Bueno   9 a 15 años      1.0    No definida   \n",
       "2          64 m²      3.0  Remodelado    1 a 8 años      6.0       $ 50 COP   \n",
       "3            NaN      NaN         NaN           NaN      NaN            NaN   \n",
       "4          56 m²      3.0  Remodelado   9 a 15 años      6.0    No definida   \n",
       "..           ...      ...         ...           ...      ...            ...   \n",
       "315          NaN      NaN         NaN           NaN      NaN            NaN   \n",
       "316        42 m²      3.0       Bueno  16 a 30 años      3.0   $ 50.000 COP   \n",
       "317        61 m²      3.0       Bueno    1 a 8 años      1.0   $ 80.000 COP   \n",
       "318        70 m²      3.0   Excelente    1 a 8 años      2.0   $ 72.000 COP   \n",
       "319         0 m²      3.0   Excelente    1 a 8 años      2.0    No definida   \n",
       "\n",
       "             Precio m² Tipo de apartamento Parqueaderos  \n",
       "0    $ 2.549.019,61*m²                 NaN          NaN  \n",
       "1    $ 2.545.454,55*m²                 NaN          NaN  \n",
       "2    $ 2.142.857,14*m²                 NaN          NaN  \n",
       "3                  NaN                 NaN          NaN  \n",
       "4    $ 1.785.714,29*m²                Loft          NaN  \n",
       "..                 ...                 ...          ...  \n",
       "315                NaN                 NaN          NaN  \n",
       "316  $ 2.553.191,49*m²                 NaN          NaN  \n",
       "317  $ 2.245.901,64*m²                 NaN          NaN  \n",
       "318  $ 2.159.420,29*m²                 NaN          NaN  \n",
       "319  $ 2.083.333,33*m²                 NaN          NaN  \n",
       "\n",
       "[320 rows x 14 columns]"
      ]
     },
     "execution_count": 25,
     "metadata": {},
     "output_type": "execute_result"
    }
   ],
   "source": [
    "df = pd.read_csv(\"house_prices_colombia_medellin.csv\")\n",
    "df"
   ]
  },
  {
   "cell_type": "markdown",
   "metadata": {
    "collapsed": false,
    "pycharm": {
     "name": "#%% md\n"
    }
   },
   "source": [
    "Cleaning the data"
   ]
  },
  {
   "cell_type": "code",
   "execution_count": 26,
   "metadata": {
    "collapsed": false,
    "pycharm": {
     "name": "#%%\n"
    }
   },
   "outputs": [
    {
     "name": "stderr",
     "output_type": "stream",
     "text": [
      "<ipython-input-26-2a4e98ea62fe>:1: FutureWarning: The default value of regex will change from True to False in a future version. In addition, single character regular expressions will*not* be treated as literal strings when regex=True.\n",
      "  df[\"Precio\"] = df.price.str.lstrip(\"$\").str.replace(\".\", \"\")\n"
     ]
    }
   ],
   "source": [
    "df[\"Precio\"] = df.price.str.lstrip(\"$\").str.replace(\".\", \"\")\n",
    "df[\"Habitaciones\"] = df[\"Habitaciones\"]\n",
    "df[\"Baños\"] = df[\"Baños\"]\n",
    "df[\"Estrato\"] = df[\"Estrato\"]\n",
    "df[\"Piso N°\"] = df[\"Piso N°\"]\n",
    "df[\"Área construída (m²)\"] = df[\"Área construída\"].str.replace(\"m²\", \"\")\n",
    "df[\"Área privada (m²)\"] = df[\"Área privada\"].str.replace(\"m²\", \"\")"
   ]
  },
  {
   "cell_type": "code",
   "execution_count": 27,
   "metadata": {
    "collapsed": false,
    "pycharm": {
     "name": "#%%\n"
    }
   },
   "outputs": [
    {
     "data": {
      "text/html": [
       "<div>\n",
       "<style scoped>\n",
       "    .dataframe tbody tr th:only-of-type {\n",
       "        vertical-align: middle;\n",
       "    }\n",
       "\n",
       "    .dataframe tbody tr th {\n",
       "        vertical-align: top;\n",
       "    }\n",
       "\n",
       "    .dataframe thead th {\n",
       "        text-align: right;\n",
       "    }\n",
       "</style>\n",
       "<table border=\"1\" class=\"dataframe\">\n",
       "  <thead>\n",
       "    <tr style=\"text-align: right;\">\n",
       "      <th></th>\n",
       "      <th>Habitaciones</th>\n",
       "      <th>Baños</th>\n",
       "      <th>Estrato</th>\n",
       "      <th>Estado</th>\n",
       "      <th>Antigüedad</th>\n",
       "      <th>Piso N°</th>\n",
       "      <th>Administración</th>\n",
       "      <th>Precio m²</th>\n",
       "      <th>Tipo de apartamento</th>\n",
       "      <th>Parqueaderos</th>\n",
       "      <th>Precio</th>\n",
       "      <th>Área construída (m²)</th>\n",
       "      <th>Área privada (m²)</th>\n",
       "    </tr>\n",
       "  </thead>\n",
       "  <tbody>\n",
       "    <tr>\n",
       "      <th>0</th>\n",
       "      <td>3.0</td>\n",
       "      <td>2.0</td>\n",
       "      <td>3.0</td>\n",
       "      <td>Bueno</td>\n",
       "      <td>1 a 8 años</td>\n",
       "      <td>2.0</td>\n",
       "      <td>$ 79.000 COP</td>\n",
       "      <td>$ 2.549.019,61*m²</td>\n",
       "      <td>NaN</td>\n",
       "      <td>NaN</td>\n",
       "      <td>130000000</td>\n",
       "      <td>51</td>\n",
       "      <td>0</td>\n",
       "    </tr>\n",
       "    <tr>\n",
       "      <th>1</th>\n",
       "      <td>2.0</td>\n",
       "      <td>1.0</td>\n",
       "      <td>2.0</td>\n",
       "      <td>Bueno</td>\n",
       "      <td>9 a 15 años</td>\n",
       "      <td>1.0</td>\n",
       "      <td>No definida</td>\n",
       "      <td>$ 2.545.454,55*m²</td>\n",
       "      <td>NaN</td>\n",
       "      <td>NaN</td>\n",
       "      <td>112000000</td>\n",
       "      <td>44</td>\n",
       "      <td>44</td>\n",
       "    </tr>\n",
       "    <tr>\n",
       "      <th>2</th>\n",
       "      <td>3.0</td>\n",
       "      <td>1.0</td>\n",
       "      <td>3.0</td>\n",
       "      <td>Remodelado</td>\n",
       "      <td>1 a 8 años</td>\n",
       "      <td>6.0</td>\n",
       "      <td>$ 50 COP</td>\n",
       "      <td>$ 2.142.857,14*m²</td>\n",
       "      <td>NaN</td>\n",
       "      <td>NaN</td>\n",
       "      <td>150000000</td>\n",
       "      <td>70</td>\n",
       "      <td>64</td>\n",
       "    </tr>\n",
       "    <tr>\n",
       "      <th>3</th>\n",
       "      <td>NaN</td>\n",
       "      <td>NaN</td>\n",
       "      <td>NaN</td>\n",
       "      <td>NaN</td>\n",
       "      <td>NaN</td>\n",
       "      <td>NaN</td>\n",
       "      <td>NaN</td>\n",
       "      <td>NaN</td>\n",
       "      <td>NaN</td>\n",
       "      <td>NaN</td>\n",
       "      <td>152152000</td>\n",
       "      <td>NaN</td>\n",
       "      <td>NaN</td>\n",
       "    </tr>\n",
       "    <tr>\n",
       "      <th>4</th>\n",
       "      <td>3.0</td>\n",
       "      <td>1.0</td>\n",
       "      <td>3.0</td>\n",
       "      <td>Remodelado</td>\n",
       "      <td>9 a 15 años</td>\n",
       "      <td>6.0</td>\n",
       "      <td>No definida</td>\n",
       "      <td>$ 1.785.714,29*m²</td>\n",
       "      <td>Loft</td>\n",
       "      <td>NaN</td>\n",
       "      <td>100000000</td>\n",
       "      <td>56</td>\n",
       "      <td>56</td>\n",
       "    </tr>\n",
       "    <tr>\n",
       "      <th>...</th>\n",
       "      <td>...</td>\n",
       "      <td>...</td>\n",
       "      <td>...</td>\n",
       "      <td>...</td>\n",
       "      <td>...</td>\n",
       "      <td>...</td>\n",
       "      <td>...</td>\n",
       "      <td>...</td>\n",
       "      <td>...</td>\n",
       "      <td>...</td>\n",
       "      <td>...</td>\n",
       "      <td>...</td>\n",
       "      <td>...</td>\n",
       "    </tr>\n",
       "    <tr>\n",
       "      <th>315</th>\n",
       "      <td>NaN</td>\n",
       "      <td>NaN</td>\n",
       "      <td>NaN</td>\n",
       "      <td>NaN</td>\n",
       "      <td>NaN</td>\n",
       "      <td>NaN</td>\n",
       "      <td>NaN</td>\n",
       "      <td>NaN</td>\n",
       "      <td>NaN</td>\n",
       "      <td>NaN</td>\n",
       "      <td>139000000</td>\n",
       "      <td>NaN</td>\n",
       "      <td>NaN</td>\n",
       "    </tr>\n",
       "    <tr>\n",
       "      <th>316</th>\n",
       "      <td>2.0</td>\n",
       "      <td>1.0</td>\n",
       "      <td>3.0</td>\n",
       "      <td>Bueno</td>\n",
       "      <td>16 a 30 años</td>\n",
       "      <td>3.0</td>\n",
       "      <td>$ 50.000 COP</td>\n",
       "      <td>$ 2.553.191,49*m²</td>\n",
       "      <td>NaN</td>\n",
       "      <td>NaN</td>\n",
       "      <td>120000000</td>\n",
       "      <td>47</td>\n",
       "      <td>42</td>\n",
       "    </tr>\n",
       "    <tr>\n",
       "      <th>317</th>\n",
       "      <td>3.0</td>\n",
       "      <td>2.0</td>\n",
       "      <td>3.0</td>\n",
       "      <td>Bueno</td>\n",
       "      <td>1 a 8 años</td>\n",
       "      <td>1.0</td>\n",
       "      <td>$ 80.000 COP</td>\n",
       "      <td>$ 2.245.901,64*m²</td>\n",
       "      <td>NaN</td>\n",
       "      <td>NaN</td>\n",
       "      <td>137000000</td>\n",
       "      <td>61</td>\n",
       "      <td>61</td>\n",
       "    </tr>\n",
       "    <tr>\n",
       "      <th>318</th>\n",
       "      <td>3.0</td>\n",
       "      <td>2.0</td>\n",
       "      <td>3.0</td>\n",
       "      <td>Excelente</td>\n",
       "      <td>1 a 8 años</td>\n",
       "      <td>2.0</td>\n",
       "      <td>$ 72.000 COP</td>\n",
       "      <td>$ 2.159.420,29*m²</td>\n",
       "      <td>NaN</td>\n",
       "      <td>NaN</td>\n",
       "      <td>149000000</td>\n",
       "      <td>69</td>\n",
       "      <td>70</td>\n",
       "    </tr>\n",
       "    <tr>\n",
       "      <th>319</th>\n",
       "      <td>3.0</td>\n",
       "      <td>1.0</td>\n",
       "      <td>3.0</td>\n",
       "      <td>Excelente</td>\n",
       "      <td>1 a 8 años</td>\n",
       "      <td>2.0</td>\n",
       "      <td>No definida</td>\n",
       "      <td>$ 2.083.333,33*m²</td>\n",
       "      <td>NaN</td>\n",
       "      <td>NaN</td>\n",
       "      <td>100000000</td>\n",
       "      <td>48</td>\n",
       "      <td>0</td>\n",
       "    </tr>\n",
       "  </tbody>\n",
       "</table>\n",
       "<p>320 rows × 13 columns</p>\n",
       "</div>"
      ],
      "text/plain": [
       "     Habitaciones  Baños  Estrato      Estado    Antigüedad  Piso N°  \\\n",
       "0             3.0    2.0      3.0       Bueno    1 a 8 años      2.0   \n",
       "1             2.0    1.0      2.0       Bueno   9 a 15 años      1.0   \n",
       "2             3.0    1.0      3.0  Remodelado    1 a 8 años      6.0   \n",
       "3             NaN    NaN      NaN         NaN           NaN      NaN   \n",
       "4             3.0    1.0      3.0  Remodelado   9 a 15 años      6.0   \n",
       "..            ...    ...      ...         ...           ...      ...   \n",
       "315           NaN    NaN      NaN         NaN           NaN      NaN   \n",
       "316           2.0    1.0      3.0       Bueno  16 a 30 años      3.0   \n",
       "317           3.0    2.0      3.0       Bueno    1 a 8 años      1.0   \n",
       "318           3.0    2.0      3.0   Excelente    1 a 8 años      2.0   \n",
       "319           3.0    1.0      3.0   Excelente    1 a 8 años      2.0   \n",
       "\n",
       "    Administración          Precio m² Tipo de apartamento Parqueaderos  \\\n",
       "0     $ 79.000 COP  $ 2.549.019,61*m²                 NaN          NaN   \n",
       "1      No definida  $ 2.545.454,55*m²                 NaN          NaN   \n",
       "2         $ 50 COP  $ 2.142.857,14*m²                 NaN          NaN   \n",
       "3              NaN                NaN                 NaN          NaN   \n",
       "4      No definida  $ 1.785.714,29*m²                Loft          NaN   \n",
       "..             ...                ...                 ...          ...   \n",
       "315            NaN                NaN                 NaN          NaN   \n",
       "316   $ 50.000 COP  $ 2.553.191,49*m²                 NaN          NaN   \n",
       "317   $ 80.000 COP  $ 2.245.901,64*m²                 NaN          NaN   \n",
       "318   $ 72.000 COP  $ 2.159.420,29*m²                 NaN          NaN   \n",
       "319    No definida  $ 2.083.333,33*m²                 NaN          NaN   \n",
       "\n",
       "         Precio Área construída (m²) Área privada (m²)  \n",
       "0     130000000                  51                 0   \n",
       "1     112000000                  44                44   \n",
       "2     150000000                  70                64   \n",
       "3     152152000                  NaN               NaN  \n",
       "4     100000000                  56                56   \n",
       "..          ...                  ...               ...  \n",
       "315   139000000                  NaN               NaN  \n",
       "316   120000000                  47                42   \n",
       "317   137000000                  61                61   \n",
       "318   149000000                  69                70   \n",
       "319   100000000                  48                 0   \n",
       "\n",
       "[320 rows x 13 columns]"
      ]
     },
     "execution_count": 27,
     "metadata": {},
     "output_type": "execute_result"
    }
   ],
   "source": [
    "df = df.drop(columns=['Unnamed: 0', 'price', 'Área construída', 'Área privada'])\n",
    "df"
   ]
  },
  {
   "cell_type": "code",
   "execution_count": 28,
   "metadata": {
    "collapsed": false,
    "pycharm": {
     "name": "#%%\n"
    }
   },
   "outputs": [
    {
     "data": {
      "text/plain": [
       "Habitaciones            float64\n",
       "Baños                   float64\n",
       "Estrato                 float64\n",
       "Estado                   object\n",
       "Antigüedad               object\n",
       "Piso N°                 float64\n",
       "Administración           object\n",
       "Precio m²                object\n",
       "Tipo de apartamento      object\n",
       "Parqueaderos             object\n",
       "Precio                   object\n",
       "Área construída (m²)     object\n",
       "Área privada (m²)        object\n",
       "dtype: object"
      ]
     },
     "execution_count": 28,
     "metadata": {},
     "output_type": "execute_result"
    }
   ],
   "source": [
    "df.dtypes"
   ]
  },
  {
   "cell_type": "code",
   "execution_count": 29,
   "metadata": {
    "collapsed": false,
    "pycharm": {
     "name": "#%%\n"
    }
   },
   "outputs": [
    {
     "ename": "KeyError",
     "evalue": "'price'",
     "output_type": "error",
     "traceback": [
      "\u001b[0;31m---------------------------------------------------------------------------\u001b[0m",
      "\u001b[0;31mKeyError\u001b[0m                                  Traceback (most recent call last)",
      "\u001b[0;32m/usr/local/lib/python3.9/site-packages/pandas/core/indexes/base.py\u001b[0m in \u001b[0;36mget_loc\u001b[0;34m(self, key, method, tolerance)\u001b[0m\n\u001b[1;32m   3079\u001b[0m             \u001b[0;32mtry\u001b[0m\u001b[0;34m:\u001b[0m\u001b[0;34m\u001b[0m\u001b[0;34m\u001b[0m\u001b[0m\n\u001b[0;32m-> 3080\u001b[0;31m                 \u001b[0;32mreturn\u001b[0m \u001b[0mself\u001b[0m\u001b[0;34m.\u001b[0m\u001b[0m_engine\u001b[0m\u001b[0;34m.\u001b[0m\u001b[0mget_loc\u001b[0m\u001b[0;34m(\u001b[0m\u001b[0mcasted_key\u001b[0m\u001b[0;34m)\u001b[0m\u001b[0;34m\u001b[0m\u001b[0;34m\u001b[0m\u001b[0m\n\u001b[0m\u001b[1;32m   3081\u001b[0m             \u001b[0;32mexcept\u001b[0m \u001b[0mKeyError\u001b[0m \u001b[0;32mas\u001b[0m \u001b[0merr\u001b[0m\u001b[0;34m:\u001b[0m\u001b[0;34m\u001b[0m\u001b[0;34m\u001b[0m\u001b[0m\n",
      "\u001b[0;32mpandas/_libs/index.pyx\u001b[0m in \u001b[0;36mpandas._libs.index.IndexEngine.get_loc\u001b[0;34m()\u001b[0m\n",
      "\u001b[0;32mpandas/_libs/index.pyx\u001b[0m in \u001b[0;36mpandas._libs.index.IndexEngine.get_loc\u001b[0;34m()\u001b[0m\n",
      "\u001b[0;32mpandas/_libs/hashtable_class_helper.pxi\u001b[0m in \u001b[0;36mpandas._libs.hashtable.PyObjectHashTable.get_item\u001b[0;34m()\u001b[0m\n",
      "\u001b[0;32mpandas/_libs/hashtable_class_helper.pxi\u001b[0m in \u001b[0;36mpandas._libs.hashtable.PyObjectHashTable.get_item\u001b[0;34m()\u001b[0m\n",
      "\u001b[0;31mKeyError\u001b[0m: 'price'",
      "\nThe above exception was the direct cause of the following exception:\n",
      "\u001b[0;31mKeyError\u001b[0m                                  Traceback (most recent call last)",
      "\u001b[0;32m<ipython-input-29-ce6453212777>\u001b[0m in \u001b[0;36m<module>\u001b[0;34m\u001b[0m\n\u001b[0;32m----> 1\u001b[0;31m \u001b[0mplt\u001b[0m\u001b[0;34m.\u001b[0m\u001b[0mscatter\u001b[0m\u001b[0;34m(\u001b[0m\u001b[0mdf\u001b[0m\u001b[0;34m[\u001b[0m\u001b[0;34m\"price\"\u001b[0m\u001b[0;34m]\u001b[0m\u001b[0;34m,\u001b[0m \u001b[0mdf\u001b[0m\u001b[0;34m[\u001b[0m\u001b[0;34m\"Habitaciones\"\u001b[0m\u001b[0;34m]\u001b[0m\u001b[0;34m)\u001b[0m\u001b[0;34m\u001b[0m\u001b[0;34m\u001b[0m\u001b[0m\n\u001b[0m\u001b[1;32m      2\u001b[0m \u001b[0;34m\u001b[0m\u001b[0m\n",
      "\u001b[0;32m/usr/local/lib/python3.9/site-packages/pandas/core/frame.py\u001b[0m in \u001b[0;36m__getitem__\u001b[0;34m(self, key)\u001b[0m\n\u001b[1;32m   3022\u001b[0m             \u001b[0;32mif\u001b[0m \u001b[0mself\u001b[0m\u001b[0;34m.\u001b[0m\u001b[0mcolumns\u001b[0m\u001b[0;34m.\u001b[0m\u001b[0mnlevels\u001b[0m \u001b[0;34m>\u001b[0m \u001b[0;36m1\u001b[0m\u001b[0;34m:\u001b[0m\u001b[0;34m\u001b[0m\u001b[0;34m\u001b[0m\u001b[0m\n\u001b[1;32m   3023\u001b[0m                 \u001b[0;32mreturn\u001b[0m \u001b[0mself\u001b[0m\u001b[0;34m.\u001b[0m\u001b[0m_getitem_multilevel\u001b[0m\u001b[0;34m(\u001b[0m\u001b[0mkey\u001b[0m\u001b[0;34m)\u001b[0m\u001b[0;34m\u001b[0m\u001b[0;34m\u001b[0m\u001b[0m\n\u001b[0;32m-> 3024\u001b[0;31m             \u001b[0mindexer\u001b[0m \u001b[0;34m=\u001b[0m \u001b[0mself\u001b[0m\u001b[0;34m.\u001b[0m\u001b[0mcolumns\u001b[0m\u001b[0;34m.\u001b[0m\u001b[0mget_loc\u001b[0m\u001b[0;34m(\u001b[0m\u001b[0mkey\u001b[0m\u001b[0;34m)\u001b[0m\u001b[0;34m\u001b[0m\u001b[0;34m\u001b[0m\u001b[0m\n\u001b[0m\u001b[1;32m   3025\u001b[0m             \u001b[0;32mif\u001b[0m \u001b[0mis_integer\u001b[0m\u001b[0;34m(\u001b[0m\u001b[0mindexer\u001b[0m\u001b[0;34m)\u001b[0m\u001b[0;34m:\u001b[0m\u001b[0;34m\u001b[0m\u001b[0;34m\u001b[0m\u001b[0m\n\u001b[1;32m   3026\u001b[0m                 \u001b[0mindexer\u001b[0m \u001b[0;34m=\u001b[0m \u001b[0;34m[\u001b[0m\u001b[0mindexer\u001b[0m\u001b[0;34m]\u001b[0m\u001b[0;34m\u001b[0m\u001b[0;34m\u001b[0m\u001b[0m\n",
      "\u001b[0;32m/usr/local/lib/python3.9/site-packages/pandas/core/indexes/base.py\u001b[0m in \u001b[0;36mget_loc\u001b[0;34m(self, key, method, tolerance)\u001b[0m\n\u001b[1;32m   3080\u001b[0m                 \u001b[0;32mreturn\u001b[0m \u001b[0mself\u001b[0m\u001b[0;34m.\u001b[0m\u001b[0m_engine\u001b[0m\u001b[0;34m.\u001b[0m\u001b[0mget_loc\u001b[0m\u001b[0;34m(\u001b[0m\u001b[0mcasted_key\u001b[0m\u001b[0;34m)\u001b[0m\u001b[0;34m\u001b[0m\u001b[0;34m\u001b[0m\u001b[0m\n\u001b[1;32m   3081\u001b[0m             \u001b[0;32mexcept\u001b[0m \u001b[0mKeyError\u001b[0m \u001b[0;32mas\u001b[0m \u001b[0merr\u001b[0m\u001b[0;34m:\u001b[0m\u001b[0;34m\u001b[0m\u001b[0;34m\u001b[0m\u001b[0m\n\u001b[0;32m-> 3082\u001b[0;31m                 \u001b[0;32mraise\u001b[0m \u001b[0mKeyError\u001b[0m\u001b[0;34m(\u001b[0m\u001b[0mkey\u001b[0m\u001b[0;34m)\u001b[0m \u001b[0;32mfrom\u001b[0m \u001b[0merr\u001b[0m\u001b[0;34m\u001b[0m\u001b[0;34m\u001b[0m\u001b[0m\n\u001b[0m\u001b[1;32m   3083\u001b[0m \u001b[0;34m\u001b[0m\u001b[0m\n\u001b[1;32m   3084\u001b[0m         \u001b[0;32mif\u001b[0m \u001b[0mtolerance\u001b[0m \u001b[0;32mis\u001b[0m \u001b[0;32mnot\u001b[0m \u001b[0;32mNone\u001b[0m\u001b[0;34m:\u001b[0m\u001b[0;34m\u001b[0m\u001b[0;34m\u001b[0m\u001b[0m\n",
      "\u001b[0;31mKeyError\u001b[0m: 'price'"
     ]
    }
   ],
   "source": [
    "plt.scatter(df[\"price\"], df[\"Habitaciones\"])"
   ]
  },
  {
   "cell_type": "code",
   "execution_count": 15,
   "metadata": {
    "collapsed": false,
    "pycharm": {
     "name": "#%%\n"
    }
   },
   "outputs": [
    {
     "data": {
      "text/plain": [
       "<matplotlib.collections.PathCollection at 0x1144f2c10>"
      ]
     },
     "execution_count": 15,
     "metadata": {},
     "output_type": "execute_result"
    },
    {
     "data": {
      "image/png": "[encoded data removed]",
      "text/plain": [
       "<Figure size 432x288 with 1 Axes>"
      ]
     },
     "metadata": {
      "needs_background": "light"
     },
     "output_type": "display_data"
    }
   ],
   "source": [
    "plt.scatter(df[\"price\"], df[\"Estrato\"])"
   ]
  },
  {
   "cell_type": "code",
   "execution_count": 16,
   "metadata": {
    "collapsed": false,
    "pycharm": {
     "name": "#%%\n"
    }
   },
   "outputs": [
    {
     "data": {
      "text/plain": [
       "<matplotlib.collections.PathCollection at 0x114565ac0>"
      ]
     },
     "execution_count": 16,
     "metadata": {},
     "output_type": "execute_result"
    },
    {
     "data": {
      "image/png": "[encoded data removed]",
      "text/plain": [
       "<Figure size 432x288 with 1 Axes>"
      ]
     },
     "metadata": {
      "needs_background": "light"
     },
     "output_type": "display_data"
    }
   ],
   "source": [
    "plt.scatter(df[\"price\"], df[\"Baños\"])"
   ]
  },
  {
   "cell_type": "code",
   "execution_count": 30,
   "metadata": {
    "collapsed": false,
    "pycharm": {
     "name": "#%%\n"
    }
   },
   "outputs": [],
   "source": [
    "df.to_csv(\"houses_soacha.csv\")"
   ]
  },
  {
   "cell_type": "code",
   "execution_count": 31,
   "metadata": {
    "collapsed": false,
    "pycharm": {
     "name": "#%%\n"
    }
   },
   "outputs": [
    {
     "data": {
      "text/plain": [
       "Index(['Habitaciones', 'Baños', 'Estrato', 'Estado', 'Antigüedad', 'Piso N°',\n",
       "       'Administración', 'Precio m²', 'Tipo de apartamento', 'Parqueaderos',\n",
       "       'Precio', 'Área construída (m²)', 'Área privada (m²)'],\n",
       "      dtype='object')"
      ]
     },
     "execution_count": 31,
     "metadata": {},
     "output_type": "execute_result"
    }
   ],
   "source": [
    "df.columns"
   ]
  },
  {
   "cell_type": "code",
   "execution_count": null,
   "metadata": {
    "collapsed": false,
    "pycharm": {
     "name": "#%%\n"
    }
   },
   "outputs": [],
   "source": []
  }
 ],
 "metadata": {
  "kernelspec": {
   "display_name": "Python 3",
   "language": "python",
   "name": "python3"
  },
  "language_info": {
   "codemirror_mode": {
    "name": "ipython",
    "version": 2
   },
   "file_extension": ".py",
   "mimetype": "text/x-python",
   "name": "python",
   "nbconvert_exporter": "python",
   "pygments_lexer": "ipython2",
   "version": "3.11.4"
  }
 },
 "nbformat": 4,
 "nbformat_minor": 0
}
